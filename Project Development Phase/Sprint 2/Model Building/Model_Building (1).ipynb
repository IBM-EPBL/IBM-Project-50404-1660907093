{
  "nbformat": 4,
  "nbformat_minor": 0,
  "metadata": {
    "colab": {
      "provenance": []
    },
    "kernelspec": {
      "name": "python3",
      "display_name": "Python 3"
    },
    "language_info": {
      "name": "python"
    }
  },
  "cells": [
    {
      "cell_type": "code",
      "execution_count": 1,
      "metadata": {
        "colab": {
          "base_uri": "https://localhost:8080/"
        },
        "id": "0xY_tFPbSrXq",
        "outputId": "aa251e59-ca63-496d-9114-bc4975c9ddff"
      },
      "outputs": [
        {
          "output_type": "stream",
          "name": "stdout",
          "text": [
            "Mounted at /content/drive\n"
          ]
        }
      ],
      "source": [
        "from google.colab import drive\n",
        "drive.mount('/content/drive')"
      ]
    },
    {
      "cell_type": "markdown",
      "source": [
        "Import the libraries"
      ],
      "metadata": {
        "id": "96DM4z5nzdT5"
      }
    },
    {
      "cell_type": "code",
      "source": [
        "import numpy as np\n",
        "import tensorflow as tf\n",
        "from tensorflow.keras.models import Sequential\n",
        "from tensorflow.keras.layers import Dense,Flatten,Dropout\n",
        "from tensorflow.keras.layers import Convolution2D,MaxPooling2D\n",
        "from tensorflow.keras.preprocessing.image import ImageDataGenerator"
      ],
      "metadata": {
        "id": "_4UzyWv1zbLv"
      },
      "execution_count": 2,
      "outputs": []
    },
    {
      "cell_type": "markdown",
      "source": [
        "Augment the data"
      ],
      "metadata": {
        "id": "oO-hpwun1iRF"
      }
    },
    {
      "cell_type": "code",
      "source": [
        "train = ImageDataGenerator(rescale = 1./255,shear_range=0.2,zoom_range=0.2,horizontal_flip=True)\n",
        "test = ImageDataGenerator(rescale = 1./255)"
      ],
      "metadata": {
        "id": "gzt2we4P1kUi"
      },
      "execution_count": 3,
      "outputs": []
    },
    {
      "cell_type": "markdown",
      "source": [
        "Loading and augmentation of given data"
      ],
      "metadata": {
        "id": "EtFAU6_R20Qq"
      }
    },
    {
      "cell_type": "code",
      "source": [
        "A_train = train.flow_from_directory('/content/drive/MyDrive/Dataset/train', target_size=(64,64), color_mode='grayscale',batch_size=3, class_mode='categorical')\n",
        "A_test = test.flow_from_directory('/content/drive/MyDrive/Dataset/test', target_size=(64,64), color_mode='grayscale',batch_size=3, class_mode='categorical')"
      ],
      "metadata": {
        "colab": {
          "base_uri": "https://localhost:8080/"
        },
        "id": "8nd2xFiB2_m6",
        "outputId": "57b0cb47-1257-4264-ae8e-b50db39294e1"
      },
      "execution_count": 4,
      "outputs": [
        {
          "output_type": "stream",
          "name": "stdout",
          "text": [
            "Found 594 images belonging to 6 classes.\n",
            "Found 30 images belonging to 6 classes.\n"
          ]
        }
      ]
    },
    {
      "cell_type": "code",
      "source": [
        "print(A_train.class_indices)"
      ],
      "metadata": {
        "colab": {
          "base_uri": "https://localhost:8080/"
        },
        "id": "7DXUbmbh_MN8",
        "outputId": "3ac4baee-3d76-4fa1-8bcb-a886ba6dcfa3"
      },
      "execution_count": 5,
      "outputs": [
        {
          "output_type": "stream",
          "name": "stdout",
          "text": [
            "{'0': 0, '1': 1, '2': 2, '3': 3, '4': 4, '5': 5}\n"
          ]
        }
      ]
    },
    {
      "cell_type": "code",
      "source": [
        "print(A_test.class_indices)"
      ],
      "metadata": {
        "colab": {
          "base_uri": "https://localhost:8080/"
        },
        "id": "xpvHLILP_R71",
        "outputId": "897f532a-07e7-40ed-881c-1ebb15de6d10"
      },
      "execution_count": 6,
      "outputs": [
        {
          "output_type": "stream",
          "name": "stdout",
          "text": [
            "{'0': 0, '1': 1, '2': 2, '3': 3, '4': 4, '5': 5}\n"
          ]
        }
      ]
    },
    {
      "cell_type": "markdown",
      "source": [
        "Import Keras library"
      ],
      "metadata": {
        "id": "3EFJgG8zEPeT"
      }
    },
    {
      "cell_type": "code",
      "source": [
        "model = Sequential()"
      ],
      "metadata": {
        "id": "cdKQysj4FItv"
      },
      "execution_count": 7,
      "outputs": []
    },
    {
      "cell_type": "markdown",
      "source": [
        "Add 1st Convolution Layer and Pooling  layer"
      ],
      "metadata": {
        "id": "_LQVwN_9IAVn"
      }
    },
    {
      "cell_type": "code",
      "source": [
        "model.add(Convolution2D(32,(3,3),input_shape=(64,64,1),activation='relu'))\n",
        "model.add(MaxPooling2D(pool_size=(2,2)))"
      ],
      "metadata": {
        "id": "olavhfPxIDqF"
      },
      "execution_count": 8,
      "outputs": []
    },
    {
      "cell_type": "markdown",
      "source": [
        "Add 2nd Convolution Layer and Pooling layer"
      ],
      "metadata": {
        "id": "hbds07i5t5OL"
      }
    },
    {
      "cell_type": "code",
      "source": [
        "model.add(Convolution2D(32,(3,3),activation='relu'))\n",
        "model.add(MaxPooling2D(pool_size=(2,2)))"
      ],
      "metadata": {
        "id": "EiLWqpmYt_n1"
      },
      "execution_count": 9,
      "outputs": []
    },
    {
      "cell_type": "markdown",
      "source": [
        "Add Flatten layer"
      ],
      "metadata": {
        "id": "GhU1EoarBA6I"
      }
    },
    {
      "cell_type": "code",
      "source": [
        "model.add(Flatten())"
      ],
      "metadata": {
        "id": "cNK0aRM3BD_I"
      },
      "execution_count": 10,
      "outputs": []
    },
    {
      "cell_type": "markdown",
      "source": [
        "Add dense layers"
      ],
      "metadata": {
        "id": "5bILZ6tdBG-y"
      }
    },
    {
      "cell_type": "code",
      "source": [
        "model.add(Dense(units=512,activation='relu'))"
      ],
      "metadata": {
        "id": "q5W2-eZ5BrPi"
      },
      "execution_count": 11,
      "outputs": []
    },
    {
      "cell_type": "code",
      "source": [
        "model.add(Dense(units=6,activation='softmax'))"
      ],
      "metadata": {
        "id": "-Zek0FqvCpg3"
      },
      "execution_count": 12,
      "outputs": []
    },
    {
      "cell_type": "code",
      "source": [
        "model.summary()"
      ],
      "metadata": {
        "colab": {
          "base_uri": "https://localhost:8080/"
        },
        "id": "3EcM5bWJCx0k",
        "outputId": "f6a2d811-185a-456f-d0a3-bdfc7e470588"
      },
      "execution_count": 13,
      "outputs": [
        {
          "output_type": "stream",
          "name": "stdout",
          "text": [
            "Model: \"sequential\"\n",
            "_________________________________________________________________\n",
            " Layer (type)                Output Shape              Param #   \n",
            "=================================================================\n",
            " conv2d (Conv2D)             (None, 62, 62, 32)        320       \n",
            "                                                                 \n",
            " max_pooling2d (MaxPooling2D  (None, 31, 31, 32)       0         \n",
            " )                                                               \n",
            "                                                                 \n",
            " conv2d_1 (Conv2D)           (None, 29, 29, 32)        9248      \n",
            "                                                                 \n",
            " max_pooling2d_1 (MaxPooling  (None, 14, 14, 32)       0         \n",
            " 2D)                                                             \n",
            "                                                                 \n",
            " flatten (Flatten)           (None, 6272)              0         \n",
            "                                                                 \n",
            " dense (Dense)               (None, 512)               3211776   \n",
            "                                                                 \n",
            " dense_1 (Dense)             (None, 6)                 3078      \n",
            "                                                                 \n",
            "=================================================================\n",
            "Total params: 3,224,422\n",
            "Trainable params: 3,224,422\n",
            "Non-trainable params: 0\n",
            "_________________________________________________________________\n"
          ]
        }
      ]
    },
    {
      "cell_type": "markdown",
      "source": [
        "Compile the model"
      ],
      "metadata": {
        "id": "XpvG2inyDbJt"
      }
    },
    {
      "cell_type": "code",
      "source": [
        "model.compile(metrics=['accuracy'],loss='categorical_crossentropy',optimizer='adam')"
      ],
      "metadata": {
        "id": "x2BRRiOPDc6r"
      },
      "execution_count": 14,
      "outputs": []
    },
    {
      "cell_type": "markdown",
      "source": [
        "Train the model"
      ],
      "metadata": {
        "id": "KmKQZBIAEAib"
      }
    },
    {
      "cell_type": "code",
      "source": [
        "model.fit(A_train,steps_per_epoch = 594/3,epochs=25,validation_data=A_test,validation_steps=len(A_test))"
      ],
      "metadata": {
        "colab": {
          "base_uri": "https://localhost:8080/"
        },
        "id": "9hcyyf5MEIjz",
        "outputId": "17817be7-35a7-4343-9dc5-7e2b10f68d64"
      },
      "execution_count": 15,
      "outputs": [
        {
          "output_type": "stream",
          "name": "stdout",
          "text": [
            "Epoch 1/25\n",
            "198/198 [==============================] - 177s 888ms/step - loss: 1.3452 - accuracy: 0.4646 - val_loss: 0.5697 - val_accuracy: 0.7667\n",
            "Epoch 2/25\n",
            "198/198 [==============================] - 6s 31ms/step - loss: 0.6095 - accuracy: 0.7576 - val_loss: 0.4496 - val_accuracy: 0.9000\n",
            "Epoch 3/25\n",
            "198/198 [==============================] - 6s 31ms/step - loss: 0.3980 - accuracy: 0.8367 - val_loss: 0.4156 - val_accuracy: 0.9000\n",
            "Epoch 4/25\n",
            "198/198 [==============================] - 6s 31ms/step - loss: 0.2943 - accuracy: 0.8973 - val_loss: 0.3322 - val_accuracy: 0.9333\n",
            "Epoch 5/25\n",
            "198/198 [==============================] - 6s 31ms/step - loss: 0.2207 - accuracy: 0.9209 - val_loss: 0.2676 - val_accuracy: 0.9333\n",
            "Epoch 6/25\n",
            "198/198 [==============================] - 6s 31ms/step - loss: 0.1487 - accuracy: 0.9512 - val_loss: 0.3064 - val_accuracy: 0.9333\n",
            "Epoch 7/25\n",
            "198/198 [==============================] - 6s 32ms/step - loss: 0.0904 - accuracy: 0.9663 - val_loss: 0.3381 - val_accuracy: 0.9667\n",
            "Epoch 8/25\n",
            "198/198 [==============================] - 6s 31ms/step - loss: 0.1413 - accuracy: 0.9495 - val_loss: 0.4084 - val_accuracy: 0.9000\n",
            "Epoch 9/25\n",
            "198/198 [==============================] - 6s 31ms/step - loss: 0.1065 - accuracy: 0.9630 - val_loss: 0.6185 - val_accuracy: 0.8667\n",
            "Epoch 10/25\n",
            "198/198 [==============================] - 6s 31ms/step - loss: 0.0663 - accuracy: 0.9781 - val_loss: 0.3348 - val_accuracy: 0.9000\n",
            "Epoch 11/25\n",
            "198/198 [==============================] - 6s 32ms/step - loss: 0.1191 - accuracy: 0.9613 - val_loss: 0.5417 - val_accuracy: 0.8667\n",
            "Epoch 12/25\n",
            "198/198 [==============================] - 6s 31ms/step - loss: 0.0627 - accuracy: 0.9815 - val_loss: 0.3082 - val_accuracy: 0.9333\n",
            "Epoch 13/25\n",
            "198/198 [==============================] - 6s 32ms/step - loss: 0.0844 - accuracy: 0.9798 - val_loss: 0.2479 - val_accuracy: 0.9333\n",
            "Epoch 14/25\n",
            "198/198 [==============================] - 6s 31ms/step - loss: 0.0340 - accuracy: 0.9899 - val_loss: 0.3366 - val_accuracy: 0.9333\n",
            "Epoch 15/25\n",
            "198/198 [==============================] - 6s 31ms/step - loss: 0.0548 - accuracy: 0.9815 - val_loss: 0.2858 - val_accuracy: 0.9000\n",
            "Epoch 16/25\n",
            "198/198 [==============================] - 6s 31ms/step - loss: 0.0770 - accuracy: 0.9697 - val_loss: 0.2071 - val_accuracy: 0.9333\n",
            "Epoch 17/25\n",
            "198/198 [==============================] - 6s 31ms/step - loss: 0.0533 - accuracy: 0.9848 - val_loss: 0.2488 - val_accuracy: 0.9667\n",
            "Epoch 18/25\n",
            "198/198 [==============================] - 6s 31ms/step - loss: 0.0493 - accuracy: 0.9865 - val_loss: 0.3315 - val_accuracy: 0.9667\n",
            "Epoch 19/25\n",
            "198/198 [==============================] - 6s 31ms/step - loss: 0.0779 - accuracy: 0.9714 - val_loss: 0.2778 - val_accuracy: 0.9333\n",
            "Epoch 20/25\n",
            "198/198 [==============================] - 6s 31ms/step - loss: 0.0409 - accuracy: 0.9882 - val_loss: 0.3725 - val_accuracy: 0.9667\n",
            "Epoch 21/25\n",
            "198/198 [==============================] - 6s 31ms/step - loss: 0.0073 - accuracy: 1.0000 - val_loss: 0.4411 - val_accuracy: 0.8667\n",
            "Epoch 22/25\n",
            "198/198 [==============================] - 6s 31ms/step - loss: 0.0031 - accuracy: 1.0000 - val_loss: 0.2745 - val_accuracy: 0.9667\n",
            "Epoch 23/25\n",
            "198/198 [==============================] - 6s 31ms/step - loss: 0.0431 - accuracy: 0.9882 - val_loss: 0.3653 - val_accuracy: 0.8667\n",
            "Epoch 24/25\n",
            "198/198 [==============================] - 6s 31ms/step - loss: 0.0040 - accuracy: 1.0000 - val_loss: 0.2509 - val_accuracy: 0.9667\n",
            "Epoch 25/25\n",
            "198/198 [==============================] - 6s 31ms/step - loss: 0.0084 - accuracy: 0.9966 - val_loss: 0.4601 - val_accuracy: 0.9000\n"
          ]
        },
        {
          "output_type": "execute_result",
          "data": {
            "text/plain": [
              "<keras.callbacks.History at 0x7f4f94d9c450>"
            ]
          },
          "metadata": {},
          "execution_count": 15
        }
      ]
    },
    {
      "cell_type": "markdown",
      "source": [
        "Save the model"
      ],
      "metadata": {
        "id": "VMKNvOLsaUV_"
      }
    },
    {
      "cell_type": "code",
      "source": [
        "model.save('gesture.h5')"
      ],
      "metadata": {
        "id": "wTNs2PBYaWNA"
      },
      "execution_count": 16,
      "outputs": []
    },
    {
      "cell_type": "code",
      "source": [
        "json_model = model.to_json()\n",
        "with open(\"model-gesture.json\",\"w\") as json_file:\n",
        "  json_file.write(json_model)"
      ],
      "metadata": {
        "id": "1ADuvS9ybjC0"
      },
      "execution_count": 17,
      "outputs": []
    },
    {
      "cell_type": "markdown",
      "source": [
        "Test the model"
      ],
      "metadata": {
        "id": "mfdIRuqydwTr"
      }
    },
    {
      "cell_type": "code",
      "source": [
        "from tensorflow.keras.models import load_model\n",
        "from tensorflow.keras.preprocessing import image\n",
        "from PIL import Image\n",
        "model = load_model('gesture.h5')\n",
        "img_path=\"/content/drive/MyDrive/test_image.jpg\""
      ],
      "metadata": {
        "id": "8GJtpdQDdx51"
      },
      "execution_count": 26,
      "outputs": []
    },
    {
      "cell_type": "code",
      "source": [
        "%pylab inline\n",
        "import matplotlib.pyplot as plt\n",
        "import matplotlib.image as mpimg\n",
        "img = mpimg.imread(img_path)\n",
        "imgplot = plt.imshow(img)\n",
        "plt.show()"
      ],
      "metadata": {
        "colab": {
          "base_uri": "https://localhost:8080/",
          "height": 287
        },
        "id": "-xS_x7pNgRlK",
        "outputId": "c2d15788-38c3-4b20-eb9f-74c40fb3d6b1"
      },
      "execution_count": 27,
      "outputs": [
        {
          "output_type": "stream",
          "name": "stdout",
          "text": [
            "Populating the interactive namespace from numpy and matplotlib\n"
          ]
        },
        {
          "output_type": "display_data",
          "data": {
            "text/plain": [
              "<Figure size 432x288 with 1 Axes>"
            ],
            "image/png": "[encoded data removed]"
          },
          "metadata": {
            "needs_background": "light"
          }
        }
      ]
    },
    {
      "cell_type": "code",
      "source": [
        "imgload = image.load_img(img_path,color_mode='grayscale',target_size=(64,64))\n",
        "res = image.img_to_array(imgload)\n",
        "res.shape"
      ],
      "metadata": {
        "colab": {
          "base_uri": "https://localhost:8080/"
        },
        "id": "R2XpYGlCg5-o",
        "outputId": "756acc11-6036-453a-96be-fb241b06080c"
      },
      "execution_count": 28,
      "outputs": [
        {
          "output_type": "execute_result",
          "data": {
            "text/plain": [
              "(64, 64, 1)"
            ]
          },
          "metadata": {},
          "execution_count": 28
        }
      ]
    },
    {
      "cell_type": "code",
      "source": [
        "type(res)"
      ],
      "metadata": {
        "colab": {
          "base_uri": "https://localhost:8080/"
        },
        "id": "BBgEQoXXiGT3",
        "outputId": "b4610f38-5a0e-43e6-c591-a63b3da80706"
      },
      "execution_count": 29,
      "outputs": [
        {
          "output_type": "execute_result",
          "data": {
            "text/plain": [
              "numpy.ndarray"
            ]
          },
          "metadata": {},
          "execution_count": 29
        }
      ]
    },
    {
      "cell_type": "code",
      "source": [
        "res = np.expand_dims(res,axis=0)"
      ],
      "metadata": {
        "id": "mHl3xDF8iPTp"
      },
      "execution_count": 30,
      "outputs": []
    },
    {
      "cell_type": "code",
      "source": [
        "res.shape"
      ],
      "metadata": {
        "colab": {
          "base_uri": "https://localhost:8080/"
        },
        "id": "2EHY3ajLiWlN",
        "outputId": "565ffbb9-46ca-4173-f87b-70eb6590d47c"
      },
      "execution_count": 34,
      "outputs": [
        {
          "output_type": "execute_result",
          "data": {
            "text/plain": [
              "(1, 64, 64, 1)"
            ]
          },
          "metadata": {},
          "execution_count": 34
        }
      ]
    }
  ]
}